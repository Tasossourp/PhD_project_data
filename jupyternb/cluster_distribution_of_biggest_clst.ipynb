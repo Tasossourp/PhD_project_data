{
 "cells": [
  {
   "cell_type": "code",
   "execution_count": 1,
   "metadata": {},
   "outputs": [],
   "source": [
    "import numpy as np\n",
    "#from matplotlib import rcParams\n",
    "import matplotlib\n",
    "import matplotlib.pyplot as plt\n",
    "from scipy.optimize import curve_fit \n",
    "import sys\n",
    "import csv\n",
    "\n",
    "matplotlib.rc('font', **{'family':'serif', 'serif':['Computer Modern']})\n",
    "matplotlib.rc('text', usetex=True)\n",
    "\n",
    "#plt.rcParams[\"font.family\"] = \"serif\"\n",
    "plt.rc('axes', linewidth=1.25)\n",
    "plt.rc('xtick.major', size=5, width=1.25)\n",
    "plt.rc('xtick.minor', size=5, width=1.25)\n",
    "plt.rc('ytick.major', size=5, width=1.25)\n",
    "plt.rc('ytick.minor', size=5, width=1.25)\n",
    "ticklabelsize=11\n",
    "legendlabelsize=11\n",
    "axislabelsize=20\n",
    "\n",
    "tableau20 = [(31, 119, 180), (174, 199, 232), (255, 127, 14), (255, 187, 120),    \n",
    "             (44, 160, 44), (152, 223, 138), (214, 39, 40), (255, 152, 150),    \n",
    "             (148, 103, 189), (197, 176, 213), (140, 86, 75), (196, 156, 148),    \n",
    "             (227, 119, 194), (247, 182, 210), (127, 127, 127), (199, 199, 199),    \n",
    "             (188, 189, 34), (219, 219, 141), (23, 190, 207), (158, 218, 229)]\n",
    "\n",
    "for i in range(len(tableau20)):    \n",
    "    r, g, b = tableau20[i]    \n",
    "    tableau20[i] = (r / 255., g / 255., b / 255.) "
   ]
  },
  {
   "cell_type": "code",
   "execution_count": 2,
   "metadata": {},
   "outputs": [],
   "source": [
    "bigclstzeroef=np.loadtxt(\"/uni-mainz.de/homes/asourpis/Documents/gromer/PhD_roadmap/MD&electricfield/hbonds/hbonds_100ns_plots/completed.dat\")"
   ]
  },
  {
   "cell_type": "code",
   "execution_count": 3,
   "metadata": {},
   "outputs": [],
   "source": [
    "bigclstef05V_nm=np.loadtxt(\"/uni-mainz.de/homes/asourpis/Documents/gromer/PhD_roadmap/MD&electricfield/hbonds/hbonds_100ns_plots/0.5-V_nm.dat\")"
   ]
  },
  {
   "cell_type": "code",
   "execution_count": 4,
   "metadata": {},
   "outputs": [],
   "source": [
    "bigclstef03V_nm=np.loadtxt(\"/uni-mainz.de/homes/asourpis/Documents/gromer/PhD_roadmap/MD&electricfield/hbonds/hbonds_100ns_plots/0.3-V_nm.dat\")"
   ]
  },
  {
   "cell_type": "code",
   "execution_count": 5,
   "metadata": {},
   "outputs": [],
   "source": [
    "bigclstef07V_nm=np.loadtxt(\"/uni-mainz.de/homes/asourpis/Documents/gromer/PhD_roadmap/MD&electricfield/hbonds/hbonds_100ns_plots/0.7-V_nm.dat\")"
   ]
  },
  {
   "cell_type": "code",
   "execution_count": 6,
   "metadata": {},
   "outputs": [],
   "source": [
    "bigclstef08V_nm=np.loadtxt(\"/uni-mainz.de/homes/asourpis/Documents/gromer/PhD_roadmap/MD&electricfield/hbonds/hbonds_100ns_plots/0.8-V_nm.dat\")"
   ]
  },
  {
   "cell_type": "code",
   "execution_count": 53,
   "metadata": {},
   "outputs": [
    {
     "data": {
      "text/plain": [
       "array([[0.0000e+00, 9.0000e+01],\n",
       "       [1.0000e+00, 9.1000e+01],\n",
       "       [2.0000e+00, 6.7000e+01],\n",
       "       ...,\n",
       "       [9.9998e+04, 8.5000e+01],\n",
       "       [9.9999e+04, 7.5000e+01],\n",
       "       [1.0000e+05, 1.3100e+02]])"
      ]
     },
     "execution_count": 53,
     "metadata": {},
     "output_type": "execute_result"
    }
   ],
   "source": [
    "bigclstef05V_nm"
   ]
  },
  {
   "cell_type": "code",
   "execution_count": 54,
   "metadata": {},
   "outputs": [],
   "source": [
    "t,N=bigclstzeroef.T"
   ]
  },
  {
   "cell_type": "code",
   "execution_count": 55,
   "metadata": {},
   "outputs": [
    {
     "data": {
      "text/plain": [
       "(array([1.8423e+04, 4.4825e+04, 2.2591e+04, 8.8740e+03, 3.5340e+03,\n",
       "        1.2890e+03, 3.4600e+02, 9.7000e+01, 1.9000e+01, 3.0000e+00]),\n",
       " array([ 19. ,  48.2,  77.4, 106.6, 135.8, 165. , 194.2, 223.4, 252.6,\n",
       "        281.8, 311. ]),\n",
       " <BarContainer object of 10 artists>)"
      ]
     },
     "execution_count": 55,
     "metadata": {},
     "output_type": "execute_result"
    },
    {
     "data": {
      "image/png": "[encoded data removed]",
      "text/plain": [
       "<Figure size 432x288 with 1 Axes>"
      ]
     },
     "metadata": {
      "needs_background": "light"
     },
     "output_type": "display_data"
    }
   ],
   "source": [
    "counts, bins = np.histogram(N)\n",
    "plt.hist(bins[:-1], bins, weights=counts)"
   ]
  },
  {
   "cell_type": "code",
   "execution_count": 56,
   "metadata": {},
   "outputs": [
    {
     "data": {
      "text/plain": [
       "array([ 19. ,  48.2,  77.4, 106.6, 135.8, 165. , 194.2, 223.4, 252.6,\n",
       "       281.8, 311. ])"
      ]
     },
     "execution_count": 56,
     "metadata": {},
     "output_type": "execute_result"
    }
   ],
   "source": [
    "bins"
   ]
  },
  {
   "cell_type": "code",
   "execution_count": 7,
   "metadata": {},
   "outputs": [
    {
     "data": {
      "image/png": "[encoded data removed]",
      "text/plain": [
       "<Figure size 432x288 with 1 Axes>"
      ]
     },
     "metadata": {
      "needs_background": "light"
     },
     "output_type": "display_data"
    }
   ],
   "source": [
    "fig, ax = plt.subplots(1,1, sharex='col', sharey='row')\n",
    "#fig, ax = plt.subplots(constrained_layout=True)\n",
    "#ax[1]=plt.gca()\n",
    "ax.get_yaxis().set_tick_params(which='both', direction='in')\n",
    "ax.get_xaxis().set_tick_params(which='both', direction='in')\n",
    "ax.yaxis.set_ticks_position('both')\n",
    "ax.xaxis.set_ticks_position('both')\n",
    "ax.xaxis.set_tick_params(labelsize=ticklabelsize)\n",
    "ax.yaxis.set_tick_params(labelsize=ticklabelsize)\n",
    "\n",
    "PLOTRANGE = (0,250,0,0.02)\n",
    "x = np.linspace(PLOTRANGE[0],PLOTRANGE[1],1)\n",
    "\n",
    "ax.set_xlim(PLOTRANGE[0],PLOTRANGE[1])\n",
    "ax.set_ylim(PLOTRANGE[2],PLOTRANGE[3])\n",
    "ax.set_aspect(0.4/ax.get_data_ratio())\n",
    "\n",
    "counts03V_nm, bins03V_nm = np.histogram(bigclstef03V_nm[:,1],bins=np.arange(500))\n",
    "counts05V_nm, bins05V_nm = np.histogram(bigclstef05V_nm[:,1],bins=np.arange(500))\n",
    "counts07V_nm, bins07V_nm = np.histogram(bigclstef07V_nm[:,1],bins=np.arange(500))\n",
    "counts08V_nm, bins08V_nm = np.histogram(bigclstef08V_nm[:,1],bins=np.arange(500))\n",
    "countszeroef, binszeroef = np.histogram(bigclstzeroef[:,1],bins=np.arange(500))\n",
    "\n",
    "#ax.hist(bins[:-1], bins, weights=counts,bins=100)\n",
    "n1, bins1, patches1 = ax.hist(bins03V_nm[:-1], bins=500, weights=counts03V_nm/100000)\n",
    "n2, bins2, patches2 = ax.hist(bins05V_nm[:-1], bins=500, weights=counts05V_nm/100000)\n",
    "n3, bins3, patches3 = ax.hist(binszeroef[:-1], bins=500, weights=countszeroef/100000)\n",
    "n4, bins4, patches4 = ax.hist(bins07V_nm[:-1], bins=500, weights=counts07V_nm/100000)\n",
    "n5, bins5, patches5 = ax.hist(bins08V_nm[:-1], bins=500, weights=counts08V_nm/100000)\n",
    "\n",
    "\n",
    "#plt.legend(loc='upper left',frameon=True,shadow=False,edgecolor='black',fancybox=False,framealpha=1.0,fontsize=1.0*legendlabelsize)\n",
    "\n",
    "\n",
    "#plt.axvline(x=10.169, color=tableau20[0])\n",
    "\n",
    "plt.ylabel(r'relative occurance', fontsize=axislabelsize) # Y label\n",
    "plt.xlabel(r'$N_{molecules}$',fontsize=axislabelsize)\n",
    "#plt.savefig(\"bigcluster_ef-6_hbonds.pdf\",bbox_inches='tight')\n",
    "\n",
    "plt.show()"
   ]
  },
  {
   "cell_type": "code",
   "execution_count": 31,
   "metadata": {},
   "outputs": [
    {
     "data": {
      "text/plain": [
       "74.79133999999999"
      ]
     },
     "execution_count": 31,
     "metadata": {},
     "output_type": "execute_result"
    }
   ],
   "source": [
    "np.sum(bigclstzeroef[:,1]/100000)"
   ]
  },
  {
   "cell_type": "code",
   "execution_count": 8,
   "metadata": {},
   "outputs": [
    {
     "name": "stderr",
     "output_type": "stream",
     "text": [
      "findfont: Font family ['serif'] not found. Falling back to DejaVu Sans.\n"
     ]
    },
    {
     "data": {
      "image/png": "[encoded data removed]",
      "text/plain": [
       "<Figure size 432x288 with 1 Axes>"
      ]
     },
     "metadata": {
      "needs_background": "light"
     },
     "output_type": "display_data"
    }
   ],
   "source": [
    "fig, ax = plt.subplots(1,1, sharex='col', sharey='row')\n",
    "\n",
    "ax.get_yaxis().set_tick_params(which='both', direction='in')\n",
    "ax.get_xaxis().set_tick_params(which='both', direction='in')\n",
    "ax.yaxis.set_ticks_position('both')\n",
    "ax.xaxis.set_ticks_position('both')\n",
    "ax.xaxis.set_tick_params(labelsize=ticklabelsize)\n",
    "ax.yaxis.set_tick_params(labelsize=ticklabelsize)\n",
    "\n",
    "PLOTRANGE = (0,250,0,0.02)\n",
    "x = np.linspace(PLOTRANGE[0],PLOTRANGE[1],1)\n",
    "\n",
    "ax.set_xlim(PLOTRANGE[0],PLOTRANGE[1])\n",
    "ax.set_ylim(PLOTRANGE[2],PLOTRANGE[3])\n",
    "ax.set_aspect(1/ax.get_data_ratio())\n",
    "\n",
    "\n",
    "bins_mean3 = [0.5 * (bins3[i] + bins3[i+1]) for i in range(len(n3))]\n",
    "#ax = fig.add_subplot(122)\n",
    "ax.plot(bins_mean3, n3, label=r'$E=0$')\n",
    "\n",
    "bins_mean1 = [0.5 * (bins1[i] + bins1[i+1]) for i in range(len(n1))]\n",
    "#ax = fig.add_subplot(122)\n",
    "ax.plot(bins_mean1, n1,label=r'$E=0.3\\;V/nm$')\n",
    "\n",
    "bins_mean2 = [0.5 * (bins2[i] + bins2[i+1]) for i in range(len(n2))]\n",
    "#ax = fig.add_subplot(122)\n",
    "ax.plot(bins_mean2, n2, label=r'$E=0.5\\;V/nm$')\n",
    "\n",
    "bins_mean4 = [0.5 * (bins4[i] + bins4[i+1]) for i in range(len(n4))]\n",
    "#ax = fig.add_subplot(122)\n",
    "ax.plot(bins_mean4, n4, label=r'$E=0.7\\;V/nm$')\n",
    "\n",
    "bins_mean5 = [0.5 * (bins5[i] + bins5[i+1]) for i in range(len(n5))]\n",
    "#ax = fig.add_subplot(122)\n",
    "ax.plot(bins_mean5, n5, label=r'$E=0.8\\;V/nm$')\n",
    "\n",
    "\n",
    "\n",
    "#plt.legend(loc='upper right',frameon=True,shadow=False,edgecolor='black',fancybox=False,framealpha=1.0,fontsize=1.0*legendlabelsize)\n",
    "\n",
    "plt.title(r'$Distribution_{\\;(larger-cluster)}$')\n",
    "plt.ylabel(r'relative occurance', fontsize=axislabelsize) # Y label\n",
    "plt.xlabel(r'$N_{molecules}$',fontsize=axislabelsize)\n",
    "ax.legend(loc='upper right',frameon=True,shadow=False,edgecolor='black',fancybox=False,framealpha=1.0,fontsize=0.65*legendlabelsize)\n",
    "\n",
    "plt.savefig(\"cluster_distribution_of_biggest_clst.png\",bbox_inches='tight',dpi=600)\n",
    "\n",
    "plt.show()"
   ]
  },
  {
   "cell_type": "code",
   "execution_count": 5,
   "metadata": {},
   "outputs": [
    {
     "data": {
      "text/plain": [
       "'/uni-mainz.de/homes/asourpis/Documents/gromer/PhD_roadmap/MD&electricfield/hbonds/hbonds_100ns_plots'"
      ]
     },
     "execution_count": 5,
     "metadata": {},
     "output_type": "execute_result"
    }
   ],
   "source": [
    "/uni-mainz.de/homes/asourpis/Documents/gromer/PhD_roadmap/MD&electricfield/hbonds/hbonds_100ns_plots/cluster_distribution_of_biggest_clst.pdf"
   ]
  },
  {
   "cell_type": "code",
   "execution_count": 10,
   "metadata": {},
   "outputs": [
    {
     "data": {
      "text/plain": [
       "'/uni-mainz.de/homes/asourpis/Documents/gromer/PhD_roadmap/MD&electricfield/hbonds/hbonds_100ns_plots'"
      ]
     },
     "execution_count": 10,
     "metadata": {},
     "output_type": "execute_result"
    }
   ],
   "source": [
    "pwd"
   ]
  },
  {
   "cell_type": "code",
   "execution_count": null,
   "metadata": {},
   "outputs": [],
   "source": []
  }
 ],
 "metadata": {
  "kernelspec": {
   "display_name": "Python 3",
   "language": "python",
   "name": "python3"
  },
  "language_info": {
   "codemirror_mode": {
    "name": "ipython",
    "version": 3
   },
   "file_extension": ".py",
   "mimetype": "text/x-python",
   "name": "python",
   "nbconvert_exporter": "python",
   "pygments_lexer": "ipython3",
   "version": "3.8.5"
  }
 },
 "nbformat": 4,
 "nbformat_minor": 4
}
